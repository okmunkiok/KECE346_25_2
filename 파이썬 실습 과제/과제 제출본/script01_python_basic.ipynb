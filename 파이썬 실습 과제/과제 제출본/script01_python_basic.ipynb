{
  "nbformat": 4,
  "nbformat_minor": 0,
  "metadata": {
    "colab": {
      "provenance": [],
      "collapsed_sections": [
        "urHYZkKg6AY2",
        "eEihNTMQ3RO_",
        "fdXbsyFP8U43",
        "KXpFdVwM8YQ-"
      ]
    },
    "kernelspec": {
      "name": "python3",
      "display_name": "Python 3"
    },
    "language_info": {
      "name": "python"
    }
  },
  "cells": [
    {
      "cell_type": "markdown",
      "source": [
        "#**파이썬 기초**"
      ],
      "metadata": {
        "id": "nvllYMnR3JEq"
      }
    },
    {
      "cell_type": "markdown",
      "source": [
        "##데이터 타입과 변수"
      ],
      "metadata": {
        "id": "urHYZkKg6AY2"
      }
    },
    {
      "cell_type": "markdown",
      "source": [
        "###수치형 변수"
      ],
      "metadata": {
        "id": "eEihNTMQ3RO_"
      }
    },
    {
      "cell_type": "code",
      "source": [
        "a = 7\n",
        "b = 3\n",
        "c = a+b\n",
        "print(c)"
      ],
      "metadata": {
        "colab": {
          "base_uri": "https://localhost:8080/"
        },
        "id": "Z_0SIjdt3Qn7",
        "outputId": "61351926-7dba-44ce-dc7a-9b4612be3052"
      },
      "execution_count": null,
      "outputs": [
        {
          "output_type": "stream",
          "name": "stdout",
          "text": [
            "10\n"
          ]
        }
      ]
    },
    {
      "cell_type": "code",
      "execution_count": null,
      "metadata": {
        "colab": {
          "base_uri": "https://localhost:8080/"
        },
        "id": "AwqGIGSY3FM-",
        "outputId": "5bc80deb-ebe4-4f39-84c8-3b6712fe703f"
      },
      "outputs": [
        {
          "output_type": "stream",
          "name": "stdout",
          "text": [
            "7 + 3 = 10\n",
            "7 - 3 = 4\n",
            "7 * 3 = 21\n",
            "7 / 3 = 2.3333333333333335\n",
            "7 % 3 = 1\n",
            "7 // 3 = 2\n",
            "7 ** 3 = 343\n"
          ]
        }
      ],
      "source": [
        "print(a,'+',b,'=',a+b)\n",
        "print(a,'-',b,'=',a-b)\n",
        "print(a,'*',b,'=',a*b)\n",
        "print(a,'/',b,'=',a/b)    # 나눗셈\n",
        "print(a,'%',b,'=',a%b)    # 나머지\n",
        "print(a,'//',b,'=',a//b)  # 몫\n",
        "print(a,'**',b,'=',a**b)  # 거듭제공"
      ]
    },
    {
      "cell_type": "markdown",
      "source": [
        "### 문자열 변수"
      ],
      "metadata": {
        "id": "lU_eklQ84fMB"
      }
    },
    {
      "cell_type": "code",
      "source": [
        "a = 'love'\n",
        "b = 'you'\n",
        "print(a,len(a))\n",
        "print(b,len(b))\n",
        "print(a+b)"
      ],
      "metadata": {
        "colab": {
          "base_uri": "https://localhost:8080/"
        },
        "id": "OCMoY7O74e7K",
        "outputId": "e159d8d3-ea19-48df-f3e9-5b2107e0f944"
      },
      "execution_count": null,
      "outputs": [
        {
          "output_type": "stream",
          "name": "stdout",
          "text": [
            "love 4\n",
            "you 3\n",
            "loveyou\n"
          ]
        }
      ]
    },
    {
      "cell_type": "code",
      "source": [
        "c = '0123456789'\n",
        "print(c[1])\n",
        "print(c[2:5])\n",
        "print(c[3:])\n",
        "print(c[:7])\n",
        "print(c[:-2])"
      ],
      "metadata": {
        "colab": {
          "base_uri": "https://localhost:8080/"
        },
        "id": "93h18jVq4Mkl",
        "outputId": "f56761fa-8461-420a-c61d-caf6d08c9b25"
      },
      "execution_count": null,
      "outputs": [
        {
          "output_type": "stream",
          "name": "stdout",
          "text": [
            "1\n",
            "234\n",
            "3456789\n",
            "0123456\n",
            "01234567\n"
          ]
        }
      ]
    },
    {
      "cell_type": "code",
      "source": [
        "d = 'abcdefghijk'\n",
        "print(d.find('c'))\n",
        "print(d.find('gh'))\n",
        "print(d.find('l'))"
      ],
      "metadata": {
        "colab": {
          "base_uri": "https://localhost:8080/"
        },
        "id": "_h3GQX4t5de7",
        "outputId": "8470b4b4-bc92-4015-a6a7-e5fda48ee03c"
      },
      "execution_count": null,
      "outputs": [
        {
          "output_type": "stream",
          "name": "stdout",
          "text": [
            "2\n",
            "6\n",
            "-1\n"
          ]
        }
      ]
    },
    {
      "cell_type": "markdown",
      "source": [
        "###리스트 변수"
      ],
      "metadata": {
        "id": "77QjJVsU560k"
      }
    },
    {
      "cell_type": "code",
      "source": [
        "a = [ 1,2.0,'three', 4 ]\n",
        "print(a,len(a))"
      ],
      "metadata": {
        "colab": {
          "base_uri": "https://localhost:8080/"
        },
        "id": "CWLkfsCB5xh_",
        "outputId": "df2802e1-5eb7-4d98-8482-43975b4d7f04"
      },
      "execution_count": null,
      "outputs": [
        {
          "output_type": "stream",
          "name": "stdout",
          "text": [
            "[1, 2.0, 'three', 4] 4\n"
          ]
        }
      ]
    },
    {
      "cell_type": "code",
      "source": [
        "print(a[0])"
      ],
      "metadata": {
        "colab": {
          "base_uri": "https://localhost:8080/"
        },
        "id": "6VX31x_26XuL",
        "outputId": "f7c6e1a8-93af-4506-ac8f-b4c195421ef0"
      },
      "execution_count": null,
      "outputs": [
        {
          "output_type": "stream",
          "name": "stdout",
          "text": [
            "1\n"
          ]
        }
      ]
    },
    {
      "cell_type": "code",
      "source": [
        "print(a[1:3])"
      ],
      "metadata": {
        "colab": {
          "base_uri": "https://localhost:8080/"
        },
        "id": "geOcTgcC6Z7H",
        "outputId": "be113f49-0ae1-4392-ecb7-c9dd442fe02a"
      },
      "execution_count": null,
      "outputs": [
        {
          "output_type": "stream",
          "name": "stdout",
          "text": [
            "[2.0, 'three']\n"
          ]
        }
      ]
    },
    {
      "cell_type": "code",
      "source": [
        "print(a[:-1])"
      ],
      "metadata": {
        "colab": {
          "base_uri": "https://localhost:8080/"
        },
        "id": "fag1dyCw6fQp",
        "outputId": "bfb45ff9-5204-4f93-a068-fba4b5c4724c"
      },
      "execution_count": null,
      "outputs": [
        {
          "output_type": "stream",
          "name": "stdout",
          "text": [
            "[1, 2.0, 'three']\n"
          ]
        }
      ]
    },
    {
      "cell_type": "code",
      "source": [
        "a.append('five')"
      ],
      "metadata": {
        "id": "TleRkQJw6gxw"
      },
      "execution_count": null,
      "outputs": []
    },
    {
      "cell_type": "code",
      "source": [
        "print(a)"
      ],
      "metadata": {
        "colab": {
          "base_uri": "https://localhost:8080/"
        },
        "id": "OPvA9gXU6je8",
        "outputId": "e67fac62-527a-4509-c1c7-0c1f984f2299"
      },
      "execution_count": null,
      "outputs": [
        {
          "output_type": "stream",
          "name": "stdout",
          "text": [
            "[1, 2.0, 'three', 4, 'five']\n"
          ]
        }
      ]
    },
    {
      "cell_type": "code",
      "source": [
        "a.append([6,7])"
      ],
      "metadata": {
        "id": "Hi-naFsp6mWZ"
      },
      "execution_count": null,
      "outputs": []
    },
    {
      "cell_type": "code",
      "source": [
        "print(a)"
      ],
      "metadata": {
        "colab": {
          "base_uri": "https://localhost:8080/"
        },
        "id": "ymwopXlm6svU",
        "outputId": "442cdd65-a47e-4149-8061-f6e51c8b6c07"
      },
      "execution_count": null,
      "outputs": [
        {
          "output_type": "stream",
          "name": "stdout",
          "text": [
            "[1, 2.0, 'three', 4, 'five', [6, 7]]\n"
          ]
        }
      ]
    },
    {
      "cell_type": "code",
      "source": [
        "print(a[5][1])"
      ],
      "metadata": {
        "colab": {
          "base_uri": "https://localhost:8080/"
        },
        "id": "bD4NG5146tgl",
        "outputId": "c93a97e1-a0bb-4373-a067-71194491f71c"
      },
      "execution_count": null,
      "outputs": [
        {
          "output_type": "stream",
          "name": "stdout",
          "text": [
            "7\n"
          ]
        }
      ]
    },
    {
      "cell_type": "code",
      "source": [
        "a.index('three')"
      ],
      "metadata": {
        "colab": {
          "base_uri": "https://localhost:8080/"
        },
        "id": "oDIDOy608oav",
        "outputId": "4d2aaa57-b960-4591-f526-6df58c7b7267"
      },
      "execution_count": null,
      "outputs": [
        {
          "output_type": "execute_result",
          "data": {
            "text/plain": [
              "2"
            ]
          },
          "metadata": {},
          "execution_count": 55
        }
      ]
    },
    {
      "cell_type": "code",
      "source": [
        "a.pop(2)\n",
        "print(a)"
      ],
      "metadata": {
        "colab": {
          "base_uri": "https://localhost:8080/"
        },
        "id": "GyJi7TrK9EcH",
        "outputId": "d4c931a8-4b2a-44ad-e2d9-f2efc373d5de"
      },
      "execution_count": null,
      "outputs": [
        {
          "output_type": "stream",
          "name": "stdout",
          "text": [
            "[1, 2.0, 4, 'five', [6, 7]]\n"
          ]
        }
      ]
    },
    {
      "cell_type": "markdown",
      "source": [
        "### 딕셔너리 변수"
      ],
      "metadata": {
        "id": "r6D16s1m7WqV"
      }
    },
    {
      "cell_type": "code",
      "source": [
        "a = {'one':1, 'two':2, 3:'three', 'four':'quattro'}\n",
        "print(a,len(a))"
      ],
      "metadata": {
        "colab": {
          "base_uri": "https://localhost:8080/"
        },
        "id": "hrMSyw9W6yEk",
        "outputId": "054d408d-611f-4d00-bd63-0d46ce99eba3"
      },
      "execution_count": null,
      "outputs": [
        {
          "output_type": "stream",
          "name": "stdout",
          "text": [
            "{'one': 1, 'two': 2, 3: 'three', 'four': 'quattro'} 4\n"
          ]
        }
      ]
    },
    {
      "cell_type": "code",
      "source": [
        "print(a['one'],a[3])"
      ],
      "metadata": {
        "colab": {
          "base_uri": "https://localhost:8080/"
        },
        "id": "2EnqAVv87-f1",
        "outputId": "a392ca87-9a5a-45d4-ed90-7d0a399af4dd"
      },
      "execution_count": null,
      "outputs": [
        {
          "output_type": "stream",
          "name": "stdout",
          "text": [
            "1 three\n"
          ]
        }
      ]
    },
    {
      "cell_type": "code",
      "source": [
        "print(a['one'],'+',a['two'],'=',a['one']+a['two'])"
      ],
      "metadata": {
        "colab": {
          "base_uri": "https://localhost:8080/"
        },
        "id": "AQUg8Fzn7w0T",
        "outputId": "c403fc53-57c6-423e-86f2-8fb5fdab342f"
      },
      "execution_count": null,
      "outputs": [
        {
          "output_type": "stream",
          "name": "stdout",
          "text": [
            "1 + 2 = 3\n"
          ]
        }
      ]
    },
    {
      "cell_type": "code",
      "source": [
        "del a['one']\n",
        "print(a)"
      ],
      "metadata": {
        "colab": {
          "base_uri": "https://localhost:8080/"
        },
        "id": "4j8HVNCh79Cz",
        "outputId": "4b3d4ba9-0ca6-4350-a583-771bdd312759"
      },
      "execution_count": null,
      "outputs": [
        {
          "output_type": "stream",
          "name": "stdout",
          "text": [
            "{'two': 2, 3: 'three', 'four': 'quattro'}\n"
          ]
        }
      ]
    },
    {
      "cell_type": "code",
      "source": [
        "a[5] = 'pentagon'"
      ],
      "metadata": {
        "id": "TsESDwZN8HlH"
      },
      "execution_count": null,
      "outputs": []
    },
    {
      "cell_type": "code",
      "source": [
        "print(a)"
      ],
      "metadata": {
        "colab": {
          "base_uri": "https://localhost:8080/"
        },
        "id": "lTZRD7KT8QDS",
        "outputId": "7ba8af8a-616c-413c-eb5d-c6bd72451c7b"
      },
      "execution_count": null,
      "outputs": [
        {
          "output_type": "stream",
          "name": "stdout",
          "text": [
            "{'two': 2, 3: 'three', 'four': 'quattro', 5: 'pentagon'}\n"
          ]
        }
      ]
    },
    {
      "cell_type": "markdown",
      "source": [
        "## 제어구문"
      ],
      "metadata": {
        "id": "fdXbsyFP8U43"
      }
    },
    {
      "cell_type": "markdown",
      "source": [
        "###조건문"
      ],
      "metadata": {
        "id": "KXpFdVwM8YQ-"
      }
    },
    {
      "cell_type": "code",
      "source": [
        "a = 1\n",
        "b = 2\n",
        "if a+b > 3:\n",
        "  print(a,'+',b,'>',3)\n",
        "print('done')"
      ],
      "metadata": {
        "colab": {
          "base_uri": "https://localhost:8080/"
        },
        "id": "7Z4d57lI8diU",
        "outputId": "7b1a2442-4ecd-48d6-e1d0-b56df54279b1"
      },
      "execution_count": null,
      "outputs": [
        {
          "output_type": "stream",
          "name": "stdout",
          "text": [
            "done\n"
          ]
        }
      ]
    },
    {
      "cell_type": "code",
      "source": [
        "a = 1\n",
        "b = 2\n",
        "if a+b > 3:\n",
        "  print(a,'+',b,'>',3)\n",
        "else:\n",
        "  print(a,'+',b,'<=',3)\n",
        "print('done')"
      ],
      "metadata": {
        "colab": {
          "base_uri": "https://localhost:8080/"
        },
        "id": "kJLXMFYn9aVz",
        "outputId": "192cdb49-2e2f-4947-fecd-8a5a03cb7ea0"
      },
      "execution_count": null,
      "outputs": [
        {
          "output_type": "stream",
          "name": "stdout",
          "text": [
            "1 + 2 <= 3\n",
            "done\n"
          ]
        }
      ]
    },
    {
      "cell_type": "code",
      "source": [
        "a =39\n",
        "if a%2 == 0:\n",
        "  print(a,'는 2의 배수')\n",
        "elif a%3 == 0:\n",
        "  print(a,'는 3의 배수')\n",
        "elif a%5 == 0:\n",
        "  print(a,'는 5의 배수')\n",
        "elif a%7 == 0:\n",
        "  print(a,'는 7의 배수')\n",
        "else:\n",
        "  print('잘 모르겠습니다.')"
      ],
      "metadata": {
        "colab": {
          "base_uri": "https://localhost:8080/"
        },
        "id": "UxOVoIfX9gf-",
        "outputId": "b5f14813-e1ab-4812-ff28-45794f89da50"
      },
      "execution_count": null,
      "outputs": [
        {
          "output_type": "stream",
          "name": "stdout",
          "text": [
            "39 는 3의 배수\n"
          ]
        }
      ]
    },
    {
      "cell_type": "markdown",
      "source": [
        "###반복문"
      ],
      "metadata": {
        "id": "dNmuDmmB_Rpn"
      }
    },
    {
      "cell_type": "code",
      "source": [
        "s = 0\n",
        "for i in range(10):\n",
        "  s = s+i\n",
        "  print(i,s)"
      ],
      "metadata": {
        "colab": {
          "base_uri": "https://localhost:8080/"
        },
        "id": "jvKzSBb8_EHV",
        "outputId": "272423eb-5539-4a4b-f5a3-ce6150e429a3"
      },
      "execution_count": null,
      "outputs": [
        {
          "output_type": "stream",
          "name": "stdout",
          "text": [
            "0 0\n",
            "1 1\n",
            "2 3\n",
            "3 6\n",
            "4 10\n",
            "5 15\n",
            "6 21\n",
            "7 28\n",
            "8 36\n",
            "9 45\n"
          ]
        }
      ]
    },
    {
      "cell_type": "code",
      "source": [
        "s = 0\n",
        "for i in [1,-1,2,3.5,-1]:\n",
        "  s = s+i\n",
        "  print(i,s)"
      ],
      "metadata": {
        "colab": {
          "base_uri": "https://localhost:8080/"
        },
        "id": "TWkKOmMn_1he",
        "outputId": "3479d670-dfc6-4c7b-b54f-d4f2b8f79be0"
      },
      "execution_count": null,
      "outputs": [
        {
          "output_type": "stream",
          "name": "stdout",
          "text": [
            "1 1\n",
            "-1 0\n",
            "2 2\n",
            "3.5 5.5\n",
            "-1 4.5\n"
          ]
        }
      ]
    },
    {
      "cell_type": "code",
      "source": [
        "Scores = {\n",
        "    'Kim': [95,68,77],\n",
        "    'Jane': [89,75,92],\n",
        "    'John': [81,99,97],\n",
        "    'Tom': [77,85,78]\n",
        "}\n",
        "for k,v in Scores.items():\n",
        "  print(k,v)"
      ],
      "metadata": {
        "colab": {
          "base_uri": "https://localhost:8080/"
        },
        "id": "5UfxZWy2AB4o",
        "outputId": "573b4443-cae5-40e3-c8cd-e79753f561b8"
      },
      "execution_count": null,
      "outputs": [
        {
          "output_type": "stream",
          "name": "stdout",
          "text": [
            "Kim [95, 68, 77]\n",
            "Jane [89, 75, 92]\n",
            "John [81, 99, 97]\n",
            "Tom [77, 85, 78]\n"
          ]
        }
      ]
    },
    {
      "cell_type": "code",
      "source": [
        "s = 0\n",
        "for k,v in Scores.items():\n",
        "  s = s+v[0]\n",
        "print(s/len(Scores))"
      ],
      "metadata": {
        "colab": {
          "base_uri": "https://localhost:8080/"
        },
        "id": "6whHASrCARnS",
        "outputId": "399ce214-e72f-4c8f-fa42-b58015929989"
      },
      "execution_count": null,
      "outputs": [
        {
          "output_type": "stream",
          "name": "stdout",
          "text": [
            "85.5\n"
          ]
        }
      ]
    },
    {
      "cell_type": "markdown",
      "source": [
        "##연습문제"
      ],
      "metadata": {
        "id": "fxO-HrR49xMl"
      }
    },
    {
      "cell_type": "markdown",
      "source": [
        "1. 다음의 코드는 각 학생의 영어, 수학, 과학 성적을 표현하였다. Jane의 수학 성적과 John을 과학 성적의 합을 출력하는 코드를 작성하시오."
      ],
      "metadata": {
        "id": "G2EL07wU9z__"
      }
    },
    {
      "cell_type": "code",
      "source": [
        "Scores = {\n",
        "    'Kim': [95,68,77],\n",
        "    'Jane': [89,75,92],\n",
        "    'John': [81,99,97],\n",
        "    'Tom': [77,85,78]\n",
        "}\n",
        "# put your code here\n",
        "\n",
        "# WHETHER_TEST = True\n",
        "WHETHER_TEST = False\n",
        "\n",
        "Jane_math = Scores['Jane'][1]\n",
        "John_sci = Scores['John'][2]\n",
        "if WHETHER_TEST:\n",
        "  print(Scores['Kim'])\n",
        "  print(Jane_math)\n",
        "  print(John_sci)\n",
        "\n",
        "print('Jane_math + John_sci = ', Jane_math + John_sci)"
      ],
      "metadata": {
        "id": "HyUPK19Q-HKS",
        "colab": {
          "base_uri": "https://localhost:8080/"
        },
        "outputId": "33b8d166-fc42-4042-c203-e2e6b054afe1"
      },
      "execution_count": null,
      "outputs": [
        {
          "output_type": "stream",
          "name": "stdout",
          "text": [
            "Jane_math + John_sci =  172\n"
          ]
        }
      ]
    },
    {
      "cell_type": "markdown",
      "source": [
        "2. 다음의 코드는 각 학생의 영어, 수학, 과학 성적을 표현하였다. 각 학생의 수학점수를 A/B/C/F로 평가하고 출력하시오. 90이상은 A, 80점 이상은 B, 70점 이상은 C, 그 이하는 F로 평가하시오.  "
      ],
      "metadata": {
        "id": "WQhNQ7-dA449"
      }
    },
    {
      "cell_type": "code",
      "source": [
        "Scores = {\n",
        "    'Kim': [95,68,77],\n",
        "    'Jane': [89,75,92],\n",
        "    'John': [81,99,97],\n",
        "    'Tom': [77,85,78]\n",
        "}\n",
        "# put your code here\n",
        "\n",
        "def evaluate_grade(score):\n",
        "  if score >= 90:\n",
        "    return 'A'\n",
        "  elif score >= 80:\n",
        "    return 'B'\n",
        "  elif score >= 70:\n",
        "    return 'C'\n",
        "  else:\n",
        "    return 'F'\n",
        "\n",
        "math_grade = dict.fromkeys(Scores)\n",
        "for k in math_grade:\n",
        "  # math_grade[k] = Scores[k][1]\n",
        "  math_grade[k] = evaluate_grade(Scores[k][1])\n",
        "print(math_grade)\n",
        "\n",
        "# WHETHER_TEST = True\n",
        "WHETHER_TEST = False\n",
        "\n",
        "if WHETHER_TEST:\n",
        "  print(math_grade)"
      ],
      "metadata": {
        "id": "2BoOysOpAhZv",
        "colab": {
          "base_uri": "https://localhost:8080/"
        },
        "outputId": "3be8244b-586d-4601-d9cf-7417497ee157"
      },
      "execution_count": null,
      "outputs": [
        {
          "output_type": "stream",
          "name": "stdout",
          "text": [
            "{'Kim': 'F', 'Jane': 'C', 'John': 'A', 'Tom': 'B'}\n"
          ]
        }
      ]
    },
    {
      "cell_type": "markdown",
      "source": [
        "3. 위의 문제에서 수학 성적의 학점 평균을 구하시오. A는 4.0, B는 3.0, C는 2.0, F는 0.0 으로 평가하시오."
      ],
      "metadata": {
        "id": "Bd00v0fwBpKB"
      }
    },
    {
      "cell_type": "code",
      "source": [
        "def convert_grade_to_gpa(grade):\n",
        "  if grade == 'A':\n",
        "    return 4.0\n",
        "  elif grade == 'B':\n",
        "    return 3.0\n",
        "  elif grade == 'C':\n",
        "    return 2.0\n",
        "  elif grade == 'F':\n",
        "    return 0.0\n",
        "\n",
        "list_math_gpa = []\n",
        "\n",
        "for k, v in math_grade.items():\n",
        "  list_math_gpa.append(convert_grade_to_gpa(v))\n",
        "# print(list_math_gpa)\n",
        "\n",
        "math_gpa_avg = sum(list_math_gpa) / len(list_math_gpa)\n",
        "print(math_gpa_avg)"
      ],
      "metadata": {
        "id": "JbzAqRTGB2mg",
        "colab": {
          "base_uri": "https://localhost:8080/"
        },
        "outputId": "dcef33a7-10e8-4e17-c211-6751d3cc9c07"
      },
      "execution_count": null,
      "outputs": [
        {
          "output_type": "stream",
          "name": "stdout",
          "text": [
            "2.25\n"
          ]
        }
      ]
    },
    {
      "cell_type": "markdown",
      "source": [
        "4. 1000이하의 소수의 개수를 구하는 코드를 작성하시오."
      ],
      "metadata": {
        "id": "s2j9WZOPbcuq"
      }
    },
    {
      "cell_type": "code",
      "source": [
        "WHETHER_TEST = True\n",
        "# WHETHER_TEST = False\n",
        "\n",
        "# 3 % 2 == 1\n",
        "list_prime_num = []\n",
        "# for i in range(5, 2):\n",
        "#   print(i)\n",
        "for i in range(3, 1000 + 1):\n",
        "  is_prime_num = 1\n",
        "  for j in range(3, i):\n",
        "    if i % j == 0:\n",
        "      is_prime_num = 0\n",
        "      break\n",
        "  if is_prime_num:\n",
        "    list_prime_num.append(i)\n",
        "print(len(list_prime_num))"
      ],
      "metadata": {
        "id": "lw9O_9aGbs3z",
        "colab": {
          "base_uri": "https://localhost:8080/"
        },
        "outputId": "3b8543f7-8991-4687-86d8-bc86b0e4de6f"
      },
      "execution_count": null,
      "outputs": [
        {
          "output_type": "stream",
          "name": "stdout",
          "text": [
            "168\n"
          ]
        }
      ]
    }
  ]
}